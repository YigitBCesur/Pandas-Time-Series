{
  "nbformat": 4,
  "nbformat_minor": 0,
  "metadata": {
    "colab": {
      "private_outputs": true,
      "provenance": [],
      "authorship_tag": "ABX9TyNicHSlKdrgdqugVc6A6+oH",
      "include_colab_link": true
    },
    "kernelspec": {
      "name": "python3",
      "display_name": "Python 3"
    },
    "language_info": {
      "name": "python"
    }
  },
  "cells": [
    {
      "cell_type": "markdown",
      "metadata": {
        "id": "view-in-github",
        "colab_type": "text"
      },
      "source": [
        "<a href=\"https://colab.research.google.com/github/YigitBCesur/Time_Series/blob/main/Cov_Corr_LogRet.ipynb\" target=\"_parent\"><img src=\"https://colab.research.google.com/assets/colab-badge.svg\" alt=\"Open In Colab\"/></a>"
      ]
    },
    {
      "cell_type": "code",
      "execution_count": null,
      "metadata": {
        "id": "haYuR8NeQ52h"
      },
      "outputs": [],
      "source": [
        "import pandas as pd\n",
        "import matplotlib.pyplot as plt\n",
        "import numpy as np\n",
        "import yfinance as yf"
      ]
    },
    {
      "source": [
        "# get historical data since 01-01-2020 till today\n",
        "\n",
        "import yfinance as yf\n",
        "\n",
        "tickers=['AAPL', 'MSFT'] # Changed to a list of strings\n",
        "\n",
        "# Get historical market data\n",
        "df= yf.download(tickers, period=\"max\", start=\"2020-01-01\")\n",
        "\n",
        "# Display the first few rows of the dataframed\n",
        "df.head()"
      ],
      "cell_type": "code",
      "metadata": {
        "id": "UiSlpCzUUbcG"
      },
      "execution_count": null,
      "outputs": []
    },
    {
      "cell_type": "code",
      "source": [
        "df=df['Close']\n",
        "df.head()"
      ],
      "metadata": {
        "id": "ga4RjPzhR_gN"
      },
      "execution_count": null,
      "outputs": []
    },
    {
      "cell_type": "code",
      "source": [
        "df['AAPL'].plot()\n"
      ],
      "metadata": {
        "id": "fVCVH8GmSOD0"
      },
      "execution_count": null,
      "outputs": []
    },
    {
      "cell_type": "code",
      "execution_count": null,
      "metadata": {
        "id": "eb-CnlA4r08J"
      },
      "outputs": [],
      "source": [
        "df['LogRet_AAPL'] = np.log(df['AAPL'].pct_change(1) + 1)  #prevclose, gross and then logreturn\n",
        "df['LogRet_AAPL'] .head()"
      ]
    },
    {
      "source": [
        "df['AAPL_SMA-10'] = df['AAPL'].rolling(10).mean()  # Calculate rolling mean on 'Close' column\n",
        "df['AAPL_SMA-50'] = df['AAPL'].rolling(50).mean()\n",
        "df['AAPL_SMA-100'] =df['AAPL'].rolling(100).mean()\n",
        "df['AAPL_SMA-200'] = df['AAPL'].rolling(200).mean()\n",
        "df.tail(20)"
      ],
      "cell_type": "code",
      "metadata": {
        "id": "LKIqLyo8S0jW"
      },
      "execution_count": null,
      "outputs": []
    },
    {
      "cell_type": "markdown",
      "source": [
        "AAPL ile kolonlari ayirmak"
      ],
      "metadata": {
        "id": "qwh0btu9Ywbe"
      }
    },
    {
      "cell_type": "code",
      "source": [
        "aapl_columns = [col for col in df.columns if col.startswith(\"AAPL\")]\n",
        "aapl = df[aapl_columns]\n"
      ],
      "metadata": {
        "id": "PLzLbOahYqvz"
      },
      "execution_count": null,
      "outputs": []
    },
    {
      "cell_type": "code",
      "source": [
        "aapl.plot(figsize=(20, 10));"
      ],
      "metadata": {
        "id": "GklrfP-ITu0-"
      },
      "execution_count": null,
      "outputs": []
    },
    {
      "cell_type": "markdown",
      "source": [
        "Covariance"
      ],
      "metadata": {
        "id": "GhS2dD_bY-4K"
      }
    },
    {
      "cell_type": "code",
      "source": [
        "msft_aapl = df[['MSFT', 'AAPL']].copy().dropna()\n",
        "cov = msft_aapl.rolling(50).cov()\n",
        "cov"
      ],
      "metadata": {
        "id": "fshQ_iiqZApu"
      },
      "execution_count": null,
      "outputs": []
    },
    {
      "cell_type": "code",
      "source": [
        "cov.loc['2025-02-07'].to_numpy()"
      ],
      "metadata": {
        "id": "JZG9q1wYZSrk"
      },
      "execution_count": null,
      "outputs": []
    },
    {
      "cell_type": "code",
      "source": [
        "msft_aapl_logret = np.log(1 + msft_aapl.pct_change(1)) #Google (GOOG) ve Microsoft (MSFT) gibi iki farklı hisse senedinin fiyat verilerindeki günlük değişim oranlarını logaritmik olarak dönüştürmektedir.\n",
        "msft_aapl_logret.head()"
      ],
      "metadata": {
        "id": "ajAwnnUFZcSn"
      },
      "execution_count": null,
      "outputs": []
    },
    {
      "cell_type": "code",
      "source": [
        "msft_aapl_logret['msft-SMA-50'] = msft_aapl_logret['MSFT'].rolling(50).mean()\n",
        "msft_aapl_logret['AAPL-SMA-50'] = msft_aapl_logret['AAPL'].rolling(50).mean()\n",
        "\n",
        "msft_aapl_logret.plot(figsize=(20, 7));"
      ],
      "metadata": {
        "id": "eKGcnT-JZ0iS"
      },
      "execution_count": null,
      "outputs": []
    },
    {
      "cell_type": "markdown",
      "source": [
        "SONUC : lginç olan, getirileri arasında oldukça güçlü bir korelasyon olması, ancak kesinlikle bazı uç değerler de bulunması."
      ],
      "metadata": {
        "id": "KNiEJU41anUq"
      }
    },
    {
      "cell_type": "code",
      "source": [
        "cov = msft_aapl_logret[['MSFT', 'AAPL']].rolling(50).cov()\n",
        "cov.tail()"
      ],
      "metadata": {
        "id": "tIVOpWbRap6f"
      },
      "execution_count": null,
      "outputs": []
    },
    {
      "cell_type": "code",
      "source": [
        "corr = msft_aapl_logret[['MSFT', 'AAPL']].rolling(50).corr()\n",
        "corr.tail(16)"
      ],
      "metadata": {
        "id": "d_e-2GrVa0Cu"
      },
      "execution_count": null,
      "outputs": []
    }
  ]
}