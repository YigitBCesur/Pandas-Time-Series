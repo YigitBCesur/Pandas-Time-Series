{
  "nbformat": 4,
  "nbformat_minor": 0,
  "metadata": {
    "colab": {
      "private_outputs": true,
      "provenance": [],
      "authorship_tag": "ABX9TyPdQ2oSZykcnJdDR2fevOaU",
      "include_colab_link": true
    },
    "kernelspec": {
      "name": "python3",
      "display_name": "Python 3"
    },
    "language_info": {
      "name": "python"
    }
  },
  "cells": [
    {
      "cell_type": "markdown",
      "metadata": {
        "id": "view-in-github",
        "colab_type": "text"
      },
      "source": [
        "<a href=\"https://colab.research.google.com/github/YigitBCesur/Time_Series/blob/main/EWMA_gurultu_trend.ipynb\" target=\"_parent\"><img src=\"https://colab.research.google.com/assets/colab-badge.svg\" alt=\"Open In Colab\"/></a>"
      ]
    },
    {
      "cell_type": "markdown",
      "source": [
        "## **EWMA -Exponentially-Weighted Moving Average - Ussel Agirlikli Hareketli ortalama**"
      ],
      "metadata": {
        "id": "wB8fQNPRxwqu"
      }
    },
    {
      "cell_type": "code",
      "source": [
        "import pandas as pd\n",
        "import matplotlib.pyplot as plt\n",
        "import numpy as np\n",
        "import yfinance as yf"
      ],
      "metadata": {
        "id": "VPNdbcrzx_Dt"
      },
      "execution_count": null,
      "outputs": []
    },
    {
      "cell_type": "code",
      "execution_count": null,
      "metadata": {
        "id": "xJ94Y2-kxthu"
      },
      "outputs": [],
      "source": [
        "tickers=['WMT','CCL'] # Changed to a list of strings\n",
        "\n",
        "# Get historical market data\n",
        "df= yf.download(tickers, start=\"2023-01-01\", end=\"2025-02-04\")\n",
        "\n",
        "# Display the first few rows of the dataframed\n",
        "df.head()"
      ]
    },
    {
      "cell_type": "code",
      "source": [
        "df=df['Close']\n",
        "df.head()"
      ],
      "metadata": {
        "id": "oh5kEI_ryrs4"
      },
      "execution_count": null,
      "outputs": []
    },
    {
      "cell_type": "code",
      "source": [
        "# Method 1: Using pct_change() (simpler, but handles NaNs differently)\n",
        "df['Return_CCL'] = df['CCL'].pct_change()\n",
        "df['Return_WMT'] = df['WMT'].pct_change()"
      ],
      "metadata": {
        "id": "rk5LT1sf39c0"
      },
      "execution_count": null,
      "outputs": []
    },
    {
      "cell_type": "code",
      "source": [
        "df['LogRet_CCL'] = np.log(df['CCL'].pct_change(1) + 1)  #prevclose, gross and then logreturn\n",
        "df['LogRet_WMT'] = np.log(df['WMT'].pct_change(1) + 1)\n",
        "df.head()"
      ],
      "metadata": {
        "id": "Xp0JQkJN3NMy"
      },
      "execution_count": null,
      "outputs": []
    },
    {
      "cell_type": "markdown",
      "source": [
        "**Bir de Sade Return ve Sade Return uzerinden EWMA ile kiyaslayalim.**"
      ],
      "metadata": {
        "id": "Ts-x4kyS6OLD"
      }
    },
    {
      "cell_type": "code",
      "source": [
        "df[['Return_CCL','Return_WMT']].plot();\n",
        "plt.grid()"
      ],
      "metadata": {
        "id": "P9TQesnFyxSg"
      },
      "execution_count": null,
      "outputs": []
    },
    {
      "cell_type": "code",
      "source": [
        "alpha = 0.7     #Guclu bir trend oldugu icin 0'e yakin olmali\n",
        "df['CCL_EWMA'] = df['Return_CCL'].ewm(alpha=alpha, adjust=False).mean()"
      ],
      "metadata": {
        "id": "08r7cxhFy7Gi"
      },
      "execution_count": null,
      "outputs": []
    },
    {
      "cell_type": "code",
      "source": [
        "alpha = 0.7    #Guclu bir trend oldugu icin 0'a yakin olmali\n",
        "df['WMT_EWMA'] = df['Return_WMT'].ewm(alpha=alpha, adjust=False).mean()"
      ],
      "metadata": {
        "id": "YgPorLNkzPLI"
      },
      "execution_count": null,
      "outputs": []
    },
    {
      "cell_type": "code",
      "source": [
        "df.head()"
      ],
      "metadata": {
        "id": "il6hwTxzzapv"
      },
      "execution_count": null,
      "outputs": []
    },
    {
      "cell_type": "code",
      "source": [
        "df[['Return_WMT', 'WMT_EWMA']].plot(figsize=(15,7));\n",
        "plt.grid()"
      ],
      "metadata": {
        "id": "RdA2GY3qzjkq"
      },
      "execution_count": null,
      "outputs": []
    },
    {
      "cell_type": "code",
      "source": [
        "df[['Return_CCL', 'CCL_EWMA']].plot(figsize=(15,7));\n",
        "plt.grid()"
      ],
      "metadata": {
        "id": "Y4AoRrf9z2fc"
      },
      "execution_count": null,
      "outputs": []
    },
    {
      "cell_type": "markdown",
      "source": [
        "EWMA (Exponentially Weighted Moving Average - Üstel Ağırlıklı Hareketli Ortalama): Turuncu çizgi, fiyatlarin getirisinin EWMA ile düzeltilmiş halini göstermektedir. EWMA, zaman serisi verilerinde trendleri daha net bir şekilde görmek ve gürültüyü azaltmak için kullanılan bir tekniktir.\n",
        "\n",
        "Turuncu çizgi, mavi çizgiye göre daha yumuşak bir seyir izlemektedir. Bu da EWMA'nın ani dalgalanmaları azaltarak temel trendi vurguladığını gösterir.\n",
        "\n",
        "Genel Trend: Hem yolcu sayısı hem de EWMA çizgisi genel olarak artan bir trend göstermektedir. Bu, zamanla yolculuk talebinin arttığını işaret etmektedir.\n",
        "\n",
        "Mevsimsellik: Mavi çizgi üzerindeki düzenli dalgalanmalar, yolcu sayısında belirgin bir mevsimsel etki olduğunu göstermektedir. Bu mevsimsellik, turizm veya seyahat sektöründeki dönemsel değişikliklerle ilgili olabilir (örneğin yaz aylarında seyahat talebinin artması).\n",
        "\n",
        "Özetle, grafik, yolcu sayısının zamanla arttığını, belirgin bir mevsimsel dalgalanma gösterdiğini ve EWMA'nın bu dalgalanmaları yumuşatarak temel trendi daha net ortaya koyduğunu göstermektedir."
      ],
      "metadata": {
        "id": "tFbAF41U44lA"
      }
    },
    {
      "cell_type": "markdown",
      "source": [
        "GENIZ AMAN ARALIGINDA VEYA KISA DONEMLERDE DAHA NET BELLI OLUR."
      ],
      "metadata": {
        "id": "DCpqoVCl1lvD"
      }
    },
    {
      "cell_type": "markdown",
      "source": [
        "\n",
        "\n",
        "---\n",
        "\n",
        "\n",
        "\n",
        "---\n",
        "\n"
      ],
      "metadata": {
        "id": "GuWeABkm5VjS"
      }
    },
    {
      "cell_type": "markdown",
      "source": [
        "**Bir de normal fiyat ve fiyat uzerinden EWMA ile kiyaslayalim.**"
      ],
      "metadata": {
        "id": "6JSlg8L85Qf7"
      }
    },
    {
      "cell_type": "code",
      "source": [
        "alpha = 0.7     #Guclu bir trend oldugu icin 0'e yakin olmali\n",
        "df['CCL_EWMA_price'] = df['CCL'].ewm(alpha=alpha, adjust=False).mean()\n",
        "\n",
        "df[['CCL', 'CCL_EWMA_price']].plot(figsize=(15,7));\n",
        "plt.grid()"
      ],
      "metadata": {
        "id": "dF32sS5c5UrY"
      },
      "execution_count": null,
      "outputs": []
    },
    {
      "cell_type": "code",
      "source": [
        "alpha = 0.7     #Guclu bir trend oldugu icin 0'e yakin olmali\n",
        "df['WMT_EWMA_price'] = df['WMT'].ewm(alpha=alpha, adjust=False).mean()\n",
        "\n",
        "df[['WMT', 'WMT_EWMA_price']].plot(figsize=(15,7));\n",
        "plt.grid()"
      ],
      "metadata": {
        "id": "O4b4D-NF5uqs"
      },
      "execution_count": null,
      "outputs": []
    }
  ]
}