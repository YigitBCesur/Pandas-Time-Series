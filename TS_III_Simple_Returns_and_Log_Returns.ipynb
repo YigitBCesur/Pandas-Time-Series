{
  "nbformat": 4,
  "nbformat_minor": 0,
  "metadata": {
    "colab": {
      "provenance": [],
      "authorship_tag": "ABX9TyMV7zJ9lhiqigGACuaJzXx8",
      "include_colab_link": true
    },
    "kernelspec": {
      "name": "python3",
      "display_name": "Python 3"
    },
    "language_info": {
      "name": "python"
    }
  },
  "cells": [
    {
      "cell_type": "markdown",
      "metadata": {
        "id": "view-in-github",
        "colab_type": "text"
      },
      "source": [
        "<a href=\"https://colab.research.google.com/github/YigitBCesur/Pandas-Time-Series/blob/main/TS_III_Simple_Returns_and_Log_Returns.ipynb\" target=\"_parent\"><img src=\"https://colab.research.google.com/assets/colab-badge.svg\" alt=\"Open In Colab\"/></a>"
      ]
    },
    {
      "cell_type": "code",
      "execution_count": null,
      "metadata": {
        "id": "vHl_p0PilcDI"
      },
      "outputs": [],
      "source": [
        "import seaborn as sns\n",
        "import pandas as pd\n",
        "import matplotlib.pyplot as plt\n",
        "import numpy as np\n",
        "import yfinance as yf"
      ]
    },
    {
      "cell_type": "code",
      "source": [
        "#@title Get the dates 30 days before and after from the current date\n",
        "from datetime import date, timedelta\n",
        "\n",
        "current_date = date.today().isoformat()\n",
        "days_before = (date.today()-timedelta(days=30)).isoformat()\n",
        "days_after = (date.today()+timedelta(days=30)).isoformat()\n",
        "\n",
        "print(\"\\nCurrent Date: \",current_date)\n",
        "print(\"30 days before current date: \",days_before)\n",
        "print(\"30 days after current date : \",days_after)\n"
      ],
      "metadata": {
        "colab": {
          "base_uri": "https://localhost:8080/"
        },
        "id": "jbIxAottlmal",
        "outputId": "220891f2-eff9-422d-9c27-54834613e92c"
      },
      "execution_count": null,
      "outputs": [
        {
          "output_type": "stream",
          "name": "stdout",
          "text": [
            "\n",
            "Current Date:  2023-07-10\n",
            "30 days before current date:  2023-06-10\n",
            "30 days after current date :  2023-08-09\n"
          ]
        }
      ]
    },
    {
      "cell_type": "code",
      "source": [
        "start=days_before\n",
        "end=current_date\n",
        "ticker='AAPL'"
      ],
      "metadata": {
        "id": "bNOHChKOl3WT"
      },
      "execution_count": null,
      "outputs": []
    },
    {
      "cell_type": "code",
      "source": [
        "#@title Getting Data\n",
        "df=yf.download(tickers=ticker,start=start, end=end)['Close'].round(2)\n",
        "df"
      ],
      "metadata": {
        "colab": {
          "base_uri": "https://localhost:8080/"
        },
        "id": "FXsVkP92mGtW",
        "outputId": "fc82984d-66f0-435a-fd06-807b2aa0d4ae"
      },
      "execution_count": null,
      "outputs": [
        {
          "output_type": "stream",
          "name": "stdout",
          "text": [
            "\r[*********************100%***********************]  1 of 1 completed\n"
          ]
        },
        {
          "output_type": "execute_result",
          "data": {
            "text/plain": [
              "Date\n",
              "2023-06-12    183.79\n",
              "2023-06-13    183.31\n",
              "2023-06-14    183.95\n",
              "2023-06-15    186.01\n",
              "2023-06-16    184.92\n",
              "2023-06-20    185.01\n",
              "2023-06-21    183.96\n",
              "2023-06-22    187.00\n",
              "2023-06-23    186.68\n",
              "2023-06-26    185.27\n",
              "2023-06-27    188.06\n",
              "2023-06-28    189.25\n",
              "2023-06-29    189.59\n",
              "2023-06-30    193.97\n",
              "2023-07-03    192.46\n",
              "2023-07-05    191.33\n",
              "2023-07-06    191.81\n",
              "2023-07-07    190.68\n",
              "Name: Close, dtype: float64"
            ]
          },
          "metadata": {},
          "execution_count": 16
        }
      ]
    },
    {
      "cell_type": "code",
      "source": [
        "#@title What is shift()?\n",
        "df.shift(1)    # move a day after"
      ],
      "metadata": {
        "colab": {
          "base_uri": "https://localhost:8080/"
        },
        "id": "pEhFL_FHoHES",
        "outputId": "88191f96-8112-46f1-cefe-3ba94efc4fdc"
      },
      "execution_count": null,
      "outputs": [
        {
          "output_type": "execute_result",
          "data": {
            "text/plain": [
              "Date\n",
              "2023-06-12       NaN\n",
              "2023-06-13    183.79\n",
              "2023-06-14    183.31\n",
              "2023-06-15    183.95\n",
              "2023-06-16    186.01\n",
              "2023-06-20    184.92\n",
              "2023-06-21    185.01\n",
              "2023-06-22    183.96\n",
              "2023-06-23    187.00\n",
              "2023-06-26    186.68\n",
              "2023-06-27    185.27\n",
              "2023-06-28    188.06\n",
              "2023-06-29    189.25\n",
              "2023-06-30    189.59\n",
              "2023-07-03    193.97\n",
              "2023-07-05    192.46\n",
              "2023-07-06    191.33\n",
              "2023-07-07    191.81\n",
              "Name: Close, dtype: float64"
            ]
          },
          "metadata": {},
          "execution_count": 17
        }
      ]
    },
    {
      "cell_type": "code",
      "source": [
        "#@title Simple Returns\n",
        "simp_ret=df.pct_change().dropna()\n",
        "simp_ret"
      ],
      "metadata": {
        "colab": {
          "base_uri": "https://localhost:8080/"
        },
        "id": "o6LyugUxmsj0",
        "outputId": "7f721727-64de-439f-9392-c87bd9c159d5"
      },
      "execution_count": null,
      "outputs": [
        {
          "output_type": "execute_result",
          "data": {
            "text/plain": [
              "Date\n",
              "2023-06-13   -0.002612\n",
              "2023-06-14    0.003491\n",
              "2023-06-15    0.011199\n",
              "2023-06-16   -0.005860\n",
              "2023-06-20    0.000487\n",
              "2023-06-21   -0.005675\n",
              "2023-06-22    0.016525\n",
              "2023-06-23   -0.001711\n",
              "2023-06-26   -0.007553\n",
              "2023-06-27    0.015059\n",
              "2023-06-28    0.006328\n",
              "2023-06-29    0.001797\n",
              "2023-06-30    0.023102\n",
              "2023-07-03   -0.007785\n",
              "2023-07-05   -0.005871\n",
              "2023-07-06    0.002509\n",
              "2023-07-07   -0.005891\n",
              "Name: Close, dtype: float64"
            ]
          },
          "metadata": {},
          "execution_count": 13
        }
      ]
    },
    {
      "cell_type": "code",
      "source": [
        "simp_ret.mean()"
      ],
      "metadata": {
        "colab": {
          "base_uri": "https://localhost:8080/"
        },
        "id": "POzQ_V1Sm2yE",
        "outputId": "2a7dc9a4-7be1-43d6-bac7-acb8a8e0192e"
      },
      "execution_count": null,
      "outputs": [
        {
          "output_type": "execute_result",
          "data": {
            "text/plain": [
              "0.0022081317410230913"
            ]
          },
          "metadata": {},
          "execution_count": 14
        }
      ]
    },
    {
      "cell_type": "markdown",
      "source": [
        "# **Log Returns**\n",
        "\n",
        "Log Returns by dividing each price by the previous price and we take logarithm"
      ],
      "metadata": {
        "id": "C4nuy5k6p8IH"
      }
    },
    {
      "cell_type": "code",
      "source": [
        "log_ret=np.log(df/df.shift(1)).dropna()   #divide the price by the previous price\n",
        "log_ret"
      ],
      "metadata": {
        "colab": {
          "base_uri": "https://localhost:8080/"
        },
        "id": "Mvxa0zV8nwU6",
        "outputId": "ebf3902d-7bf8-42ef-acfa-d73aef2bb03b"
      },
      "execution_count": null,
      "outputs": [
        {
          "output_type": "execute_result",
          "data": {
            "text/plain": [
              "Date\n",
              "2023-06-13   -0.002615\n",
              "2023-06-14    0.003485\n",
              "2023-06-15    0.011136\n",
              "2023-06-16   -0.005877\n",
              "2023-06-20    0.000487\n",
              "2023-06-21   -0.005692\n",
              "2023-06-22    0.016390\n",
              "2023-06-23   -0.001713\n",
              "2023-06-26   -0.007582\n",
              "2023-06-27    0.014947\n",
              "2023-06-28    0.006308\n",
              "2023-06-29    0.001795\n",
              "2023-06-30    0.022840\n",
              "2023-07-03   -0.007815\n",
              "2023-07-05   -0.005889\n",
              "2023-07-06    0.002506\n",
              "2023-07-07   -0.005909\n",
              "Name: Close, dtype: float64"
            ]
          },
          "metadata": {},
          "execution_count": 20
        }
      ]
    },
    {
      "cell_type": "code",
      "source": [
        "log_ret.mean()"
      ],
      "metadata": {
        "colab": {
          "base_uri": "https://localhost:8080/"
        },
        "id": "rMxzmH7Mpebb",
        "outputId": "978344f7-178d-4e37-e181-8f98f603abe3"
      },
      "execution_count": null,
      "outputs": [
        {
          "output_type": "execute_result",
          "data": {
            "text/plain": [
              "0.0021648722858377658"
            ]
          },
          "metadata": {},
          "execution_count": 24
        }
      ]
    },
    {
      "cell_type": "code",
      "source": [
        "100*np.exp(30*log_ret.mean())\n",
        "\n",
        "#log returns times the number of time periods - 3 days"
      ],
      "metadata": {
        "colab": {
          "base_uri": "https://localhost:8080/"
        },
        "id": "Cog65THgpoHz",
        "outputId": "fede4b0d-fbf9-45da-e590-9cf7f81fd93f"
      },
      "execution_count": null,
      "outputs": [
        {
          "output_type": "execute_result",
          "data": {
            "text/plain": [
              "106.71015792395411"
            ]
          },
          "metadata": {},
          "execution_count": 26
        }
      ]
    },
    {
      "cell_type": "markdown",
      "source": [
        "Average logarithmic return gives us the correct information whether our investment increased or decreased during the while period"
      ],
      "metadata": {
        "id": "tjGcKeTfrQZh"
      }
    },
    {
      "cell_type": "markdown",
      "source": [
        "++++++++++++++++++++++++++++++++++++++++++++++++++++++++++++++++++++++++++++++++++++++++++++++++++++++++++++++                       "
      ],
      "metadata": {
        "id": "UlrtnRZkvm0F"
      }
    },
    {
      "cell_type": "markdown",
      "source": [
        "Question 3:\n",
        "\n",
        "Assume that the average annual return (log returns) for a stock over a 4 years period is 4.2%. The initial Stock price was $100. How to calculate the final stock price at the end of the 4 years period?"
      ],
      "metadata": {
        "id": "ihY6A-npvdBZ"
      }
    },
    {
      "cell_type": "code",
      "source": [
        "100 * np.exp(4*0.042)"
      ],
      "metadata": {
        "colab": {
          "base_uri": "https://localhost:8080/"
        },
        "id": "6NiMRs1Zve63",
        "outputId": "9692438f-6658-47eb-becf-ce8292f6b390"
      },
      "execution_count": null,
      "outputs": [
        {
          "output_type": "execute_result",
          "data": {
            "text/plain": [
              "118.29366106478108"
            ]
          },
          "metadata": {},
          "execution_count": 27
        }
      ]
    }
  ]
}