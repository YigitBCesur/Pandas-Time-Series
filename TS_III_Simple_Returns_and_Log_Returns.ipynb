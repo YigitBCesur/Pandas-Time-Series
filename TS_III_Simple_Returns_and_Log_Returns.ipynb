{
  "nbformat": 4,
  "nbformat_minor": 0,
  "metadata": {
    "colab": {
      "provenance": [],
      "authorship_tag": "ABX9TyOPwMmrjuuJY45MlpPUlwzn",
      "include_colab_link": true
    },
    "kernelspec": {
      "name": "python3",
      "display_name": "Python 3"
    },
    "language_info": {
      "name": "python"
    }
  },
  "cells": [
    {
      "cell_type": "markdown",
      "metadata": {
        "id": "view-in-github",
        "colab_type": "text"
      },
      "source": [
        "<a href=\"https://colab.research.google.com/github/YigitBCesur/Pandas-Time-Series/blob/main/TS_III_Simple_Returns_and_Log_Returns.ipynb\" target=\"_parent\"><img src=\"https://colab.research.google.com/assets/colab-badge.svg\" alt=\"Open In Colab\"/></a>"
      ]
    },
    {
      "cell_type": "markdown",
      "source": [
        "[![Coach Pegasus PNG- colab.png](data:image/png;base64,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)](https://yigitbravecesur.com/)\n",
        "\n",
        "### 🔗 Links\n",
        "\n",
        "\n",
        "[![linkedin](https://img.shields.io/badge/LinkedIn-0A66C2?style=for-the-badge&logo=linkedin&logoColor=white)](https://www.linkedin.com/in/yigitbcesur)\n",
        "\n",
        "[![Youtube](https://img.shields.io/badge/youtube_channel-1DA1F2?style=for-the-badge&logo=youtube&logoColor=white&color=FF0000)](https://www.youtube.com/channel/UCYLMENl4ruLkZbCqLmIKW7A)\n",
        "\n",
        "[![Twitter URL](https://img.shields.io/twitter/url/https/twitter.com/YigitBraveCesur.svg?style=social&label=Follow%20%40YigitBraveCesur)](https://twitter.com/YigitBraveCesur)"
      ],
      "metadata": {
        "id": "gg7NVNC6C-79"
      }
    },
    {
      "cell_type": "code",
      "execution_count": null,
      "metadata": {
        "id": "vHl_p0PilcDI"
      },
      "outputs": [],
      "source": [
        "import seaborn as sns\n",
        "import pandas as pd\n",
        "import matplotlib.pyplot as plt\n",
        "import numpy as np\n",
        "import yfinance as yf"
      ]
    },
    {
      "cell_type": "code",
      "source": [
        "#@title Get the dates 30 days before and after from the current date\n",
        "from datetime import date, timedelta\n",
        "\n",
        "current_date = date.today().isoformat()\n",
        "days_before = (date.today()-timedelta(days=30)).isoformat()\n",
        "days_after = (date.today()+timedelta(days=30)).isoformat()\n",
        "\n",
        "print(\"\\nCurrent Date: \",current_date)\n",
        "print(\"30 days before current date: \",days_before)\n",
        "print(\"30 days after current date : \",days_after)\n"
      ],
      "metadata": {
        "colab": {
          "base_uri": "https://localhost:8080/"
        },
        "id": "jbIxAottlmal",
        "outputId": "220891f2-eff9-422d-9c27-54834613e92c"
      },
      "execution_count": null,
      "outputs": [
        {
          "output_type": "stream",
          "name": "stdout",
          "text": [
            "\n",
            "Current Date:  2023-07-10\n",
            "30 days before current date:  2023-06-10\n",
            "30 days after current date :  2023-08-09\n"
          ]
        }
      ]
    },
    {
      "cell_type": "code",
      "source": [
        "start=days_before\n",
        "end=current_date\n",
        "ticker='AAPL'"
      ],
      "metadata": {
        "id": "bNOHChKOl3WT"
      },
      "execution_count": null,
      "outputs": []
    },
    {
      "cell_type": "code",
      "source": [
        "#@title Getting Data\n",
        "df=yf.download(tickers=ticker,start=start, end=end)['Close'].round(2)\n",
        "df"
      ],
      "metadata": {
        "colab": {
          "base_uri": "https://localhost:8080/"
        },
        "id": "FXsVkP92mGtW",
        "outputId": "fc82984d-66f0-435a-fd06-807b2aa0d4ae"
      },
      "execution_count": null,
      "outputs": [
        {
          "output_type": "stream",
          "name": "stdout",
          "text": [
            "\r[*********************100%***********************]  1 of 1 completed\n"
          ]
        },
        {
          "output_type": "execute_result",
          "data": {
            "text/plain": [
              "Date\n",
              "2023-06-12    183.79\n",
              "2023-06-13    183.31\n",
              "2023-06-14    183.95\n",
              "2023-06-15    186.01\n",
              "2023-06-16    184.92\n",
              "2023-06-20    185.01\n",
              "2023-06-21    183.96\n",
              "2023-06-22    187.00\n",
              "2023-06-23    186.68\n",
              "2023-06-26    185.27\n",
              "2023-06-27    188.06\n",
              "2023-06-28    189.25\n",
              "2023-06-29    189.59\n",
              "2023-06-30    193.97\n",
              "2023-07-03    192.46\n",
              "2023-07-05    191.33\n",
              "2023-07-06    191.81\n",
              "2023-07-07    190.68\n",
              "Name: Close, dtype: float64"
            ]
          },
          "metadata": {},
          "execution_count": 16
        }
      ]
    },
    {
      "cell_type": "code",
      "source": [
        "#@title What is shift()?\n",
        "df.shift(1)    # move a day after"
      ],
      "metadata": {
        "colab": {
          "base_uri": "https://localhost:8080/"
        },
        "id": "pEhFL_FHoHES",
        "outputId": "88191f96-8112-46f1-cefe-3ba94efc4fdc"
      },
      "execution_count": null,
      "outputs": [
        {
          "output_type": "execute_result",
          "data": {
            "text/plain": [
              "Date\n",
              "2023-06-12       NaN\n",
              "2023-06-13    183.79\n",
              "2023-06-14    183.31\n",
              "2023-06-15    183.95\n",
              "2023-06-16    186.01\n",
              "2023-06-20    184.92\n",
              "2023-06-21    185.01\n",
              "2023-06-22    183.96\n",
              "2023-06-23    187.00\n",
              "2023-06-26    186.68\n",
              "2023-06-27    185.27\n",
              "2023-06-28    188.06\n",
              "2023-06-29    189.25\n",
              "2023-06-30    189.59\n",
              "2023-07-03    193.97\n",
              "2023-07-05    192.46\n",
              "2023-07-06    191.33\n",
              "2023-07-07    191.81\n",
              "Name: Close, dtype: float64"
            ]
          },
          "metadata": {},
          "execution_count": 17
        }
      ]
    },
    {
      "cell_type": "code",
      "source": [
        "#@title Simple Returns\n",
        "simp_ret=df.pct_change().dropna()\n",
        "simp_ret"
      ],
      "metadata": {
        "colab": {
          "base_uri": "https://localhost:8080/"
        },
        "id": "o6LyugUxmsj0",
        "outputId": "7f721727-64de-439f-9392-c87bd9c159d5"
      },
      "execution_count": null,
      "outputs": [
        {
          "output_type": "execute_result",
          "data": {
            "text/plain": [
              "Date\n",
              "2023-06-13   -0.002612\n",
              "2023-06-14    0.003491\n",
              "2023-06-15    0.011199\n",
              "2023-06-16   -0.005860\n",
              "2023-06-20    0.000487\n",
              "2023-06-21   -0.005675\n",
              "2023-06-22    0.016525\n",
              "2023-06-23   -0.001711\n",
              "2023-06-26   -0.007553\n",
              "2023-06-27    0.015059\n",
              "2023-06-28    0.006328\n",
              "2023-06-29    0.001797\n",
              "2023-06-30    0.023102\n",
              "2023-07-03   -0.007785\n",
              "2023-07-05   -0.005871\n",
              "2023-07-06    0.002509\n",
              "2023-07-07   -0.005891\n",
              "Name: Close, dtype: float64"
            ]
          },
          "metadata": {},
          "execution_count": 13
        }
      ]
    },
    {
      "cell_type": "code",
      "source": [
        "simp_ret.mean()"
      ],
      "metadata": {
        "colab": {
          "base_uri": "https://localhost:8080/"
        },
        "id": "POzQ_V1Sm2yE",
        "outputId": "2a7dc9a4-7be1-43d6-bac7-acb8a8e0192e"
      },
      "execution_count": null,
      "outputs": [
        {
          "output_type": "execute_result",
          "data": {
            "text/plain": [
              "0.0022081317410230913"
            ]
          },
          "metadata": {},
          "execution_count": 14
        }
      ]
    },
    {
      "cell_type": "markdown",
      "source": [
        "# **Log Returns**\n",
        "\n",
        "Log Returns by dividing each price by the previous price and we take logarithm"
      ],
      "metadata": {
        "id": "C4nuy5k6p8IH"
      }
    },
    {
      "cell_type": "code",
      "source": [
        "log_ret=np.log(df/df.shift(1)).dropna()   #divide the price by the previous price\n",
        "log_ret"
      ],
      "metadata": {
        "colab": {
          "base_uri": "https://localhost:8080/"
        },
        "id": "Mvxa0zV8nwU6",
        "outputId": "ebf3902d-7bf8-42ef-acfa-d73aef2bb03b"
      },
      "execution_count": null,
      "outputs": [
        {
          "output_type": "execute_result",
          "data": {
            "text/plain": [
              "Date\n",
              "2023-06-13   -0.002615\n",
              "2023-06-14    0.003485\n",
              "2023-06-15    0.011136\n",
              "2023-06-16   -0.005877\n",
              "2023-06-20    0.000487\n",
              "2023-06-21   -0.005692\n",
              "2023-06-22    0.016390\n",
              "2023-06-23   -0.001713\n",
              "2023-06-26   -0.007582\n",
              "2023-06-27    0.014947\n",
              "2023-06-28    0.006308\n",
              "2023-06-29    0.001795\n",
              "2023-06-30    0.022840\n",
              "2023-07-03   -0.007815\n",
              "2023-07-05   -0.005889\n",
              "2023-07-06    0.002506\n",
              "2023-07-07   -0.005909\n",
              "Name: Close, dtype: float64"
            ]
          },
          "metadata": {},
          "execution_count": 20
        }
      ]
    },
    {
      "cell_type": "code",
      "source": [
        "log_ret.mean()"
      ],
      "metadata": {
        "colab": {
          "base_uri": "https://localhost:8080/"
        },
        "id": "rMxzmH7Mpebb",
        "outputId": "978344f7-178d-4e37-e181-8f98f603abe3"
      },
      "execution_count": null,
      "outputs": [
        {
          "output_type": "execute_result",
          "data": {
            "text/plain": [
              "0.0021648722858377658"
            ]
          },
          "metadata": {},
          "execution_count": 24
        }
      ]
    },
    {
      "cell_type": "code",
      "source": [
        "100*np.exp(30*log_ret.mean())\n",
        "\n",
        "#log returns times the number of time periods - 3 days"
      ],
      "metadata": {
        "colab": {
          "base_uri": "https://localhost:8080/"
        },
        "id": "Cog65THgpoHz",
        "outputId": "fede4b0d-fbf9-45da-e590-9cf7f81fd93f"
      },
      "execution_count": null,
      "outputs": [
        {
          "output_type": "execute_result",
          "data": {
            "text/plain": [
              "106.71015792395411"
            ]
          },
          "metadata": {},
          "execution_count": 26
        }
      ]
    },
    {
      "cell_type": "markdown",
      "source": [
        "Average logarithmic return gives us the correct information whether our investment increased or decreased during the while period"
      ],
      "metadata": {
        "id": "tjGcKeTfrQZh"
      }
    },
    {
      "cell_type": "markdown",
      "source": [
        "++++++++++++++++++++++++++++++++++++++++++++++++++++++++++++++++++++++++++++++++++++++++++++++++++++++++++++++                       "
      ],
      "metadata": {
        "id": "UlrtnRZkvm0F"
      }
    },
    {
      "cell_type": "markdown",
      "source": [
        "Question 3:\n",
        "\n",
        "Assume that the average annual return (log returns) for a stock over a 4 years period is 4.2%. The initial Stock price was $100. How to calculate the final stock price at the end of the 4 years period?"
      ],
      "metadata": {
        "id": "ihY6A-npvdBZ"
      }
    },
    {
      "cell_type": "code",
      "source": [
        "100 * np.exp(4*0.042)"
      ],
      "metadata": {
        "colab": {
          "base_uri": "https://localhost:8080/"
        },
        "id": "6NiMRs1Zve63",
        "outputId": "9692438f-6658-47eb-becf-ce8292f6b390"
      },
      "execution_count": null,
      "outputs": [
        {
          "output_type": "execute_result",
          "data": {
            "text/plain": [
              "118.29366106478108"
            ]
          },
          "metadata": {},
          "execution_count": 27
        }
      ]
    }
  ]
}